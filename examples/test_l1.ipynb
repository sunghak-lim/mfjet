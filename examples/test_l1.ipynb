{
 "cells": [
  {
   "cell_type": "code",
   "execution_count": 1,
   "id": "361cf6d9",
   "metadata": {},
   "outputs": [
    {
     "name": "stdout",
     "output_type": "stream",
     "text": [
      "/home/starlight/workspace/mfjet/examples/..\n"
     ]
    }
   ],
   "source": [
    "import os\n",
    "import sys\n",
    "import math\n",
    "path_base = os.getcwd()+\"/..\"\n",
    "if path_base not in sys.path:\n",
    "    sys.path.append(path_base)\n",
    "    print(path_base)\n",
    "\n",
    "import numpy as np\n",
    "import shapely\n",
    "import mfjet "
   ]
  },
  {
   "cell_type": "code",
   "execution_count": 2,
   "id": "9b034b50",
   "metadata": {},
   "outputs": [],
   "source": [
    "calc = mfjet.MFManhattanCalculator()"
   ]
  },
  {
   "cell_type": "code",
   "execution_count": 3,
   "id": "daffd5c5",
   "metadata": {},
   "outputs": [],
   "source": [
    "coords = [\n",
    "    [1,0],\n",
    "    [1,1],\n",
    "    [0,1]\n",
    "]"
   ]
  },
  {
   "cell_type": "code",
   "execution_count": 4,
   "id": "b50181be-5e98-4c0d-a641-87cdaedb9fbc",
   "metadata": {},
   "outputs": [
    {
     "name": "stdout",
     "output_type": "stream",
     "text": [
      "MULTIPOLYGON (((1.25 -0.25, 0.75 -0.25, 0.75 0.25, 1.25 0.25, 1.25 -0.25)), ((-0.25 0.75, -0.25 1.25, 0.25 1.25, 0.25 0.75, -0.25 0.75)), ((0.75 0.75, 0.75 1.25, 1.25 1.25, 1.25 0.75, 0.75 0.75)))\n"
     ]
    }
   ],
   "source": [
    "print(calc.create_dilated_points_by_square(coords, 0.25))"
   ]
  },
  {
   "cell_type": "code",
   "execution_count": 5,
   "id": "4eca5dad-2ca5-4c7a-9e73-4fd89e7478f4",
   "metadata": {},
   "outputs": [
    {
     "data": {
      "image/svg+xml": [
       "<svg xmlns=\"http://www.w3.org/2000/svg\" xmlns:xlink=\"http://www.w3.org/1999/xlink\" width=\"100.0\" height=\"100.0\" viewBox=\"-0.58 -0.58 2.16 2.16\" preserveAspectRatio=\"xMinYMin meet\"><g transform=\"matrix(1,0,0,-1,0,1.0)\"><path fill-rule=\"evenodd\" fill=\"#66cc99\" stroke=\"#555555\" stroke-width=\"0.0432\" opacity=\"0.6\" d=\"M -0.5,0.5 L -0.5,1.5 L 0.5,1.5 L 1.5,1.5 L 1.5,0.5 L 1.5,-0.5 L 0.5,-0.5 L 0.5,0.5 L -0.5,0.5 z\" /></g></svg>"
      ],
      "text/plain": [
       "<POLYGON ((-0.5 0.5, -0.5 1.5, 0.5 1.5, 1.5 1.5, 1.5 0.5, 1.5 -0.5, 0.5 -0.5...>"
      ]
     },
     "execution_count": 5,
     "metadata": {},
     "output_type": "execute_result"
    }
   ],
   "source": [
    "calc.create_dilated_points_by_square(coords, 0.25).buffer(0.25, cap_style=\"square\", join_style=\"mitre\",mitre_limit=math.inf)"
   ]
  },
  {
   "cell_type": "code",
   "execution_count": 6,
   "id": "0bbf8562",
   "metadata": {},
   "outputs": [
    {
     "name": "stdout",
     "output_type": "stream",
     "text": [
      "(10, 3)\n"
     ]
    }
   ],
   "source": [
    "buf = calc.calc_mfs(coords, np.linspace(0,100,11)[1:])\n",
    "print(buf.shape)"
   ]
  },
  {
   "cell_type": "code",
   "execution_count": 7,
   "id": "44bea497",
   "metadata": {},
   "outputs": [
    {
     "name": "stdout",
     "output_type": "stream",
     "text": [
      "(10, 3)\n"
     ]
    }
   ],
   "source": [
    "#buf2 = calc.calc_mfs_sequential(coords, np.linspace(0,100,1001)[::100][1:])\n",
    "buf2 = calc.calc_mfs_sequential(coords, np.linspace(0,100,11)[1:])\n",
    "print(buf2.shape)"
   ]
  },
  {
   "cell_type": "code",
   "execution_count": 8,
   "id": "0345d7b9",
   "metadata": {},
   "outputs": [],
   "source": [
    "arr_r = np.linspace(0,100,11)[1:]\n",
    "buf_asymtote = np.stack([\n",
    "    np.ones_like(arr_r),\n",
    "    8*arr_r + 4,\n",
    "    (2*arr_r)**2 + arr_r * (2 * 4) + 1\n",
    "], axis=1)"
   ]
  },
  {
   "cell_type": "code",
   "execution_count": 9,
   "id": "c7df6a58-2e82-43fe-b93c-cae6b740df1a",
   "metadata": {},
   "outputs": [
    {
     "data": {
      "text/plain": [
       "array([[ 0.        ,  0.        , -0.04451683],\n",
       "       [ 0.        ,  0.        , -0.02353967],\n",
       "       [ 0.        ,  0.        , -0.01600317],\n",
       "       [ 0.        ,  0.        , -0.01212258],\n",
       "       [ 0.        ,  0.        , -0.00975681],\n",
       "       [ 0.        ,  0.        , -0.00816368],\n",
       "       [ 0.        ,  0.        , -0.00701781],\n",
       "       [ 0.        ,  0.        , -0.00615402],\n",
       "       [ 0.        ,  0.        , -0.00547958],\n",
       "       [ 0.        ,  0.        , -0.00493836]])"
      ]
     },
     "execution_count": 9,
     "metadata": {},
     "output_type": "execute_result"
    }
   ],
   "source": [
    "(buf - buf_asymtote) / (buf + buf_asymtote)"
   ]
  },
  {
   "cell_type": "code",
   "execution_count": 10,
   "id": "47a13347-e8b9-430d-83cf-d10880dfcf91",
   "metadata": {},
   "outputs": [
    {
     "data": {
      "text/plain": [
       "array([[ 0.        ,  0.        , -0.04451683],\n",
       "       [ 0.        ,  0.        , -0.02353967],\n",
       "       [ 0.        ,  0.        , -0.01600317],\n",
       "       [ 0.        ,  0.        , -0.01212258],\n",
       "       [ 0.        ,  0.        , -0.00975681],\n",
       "       [ 0.        ,  0.        , -0.00816368],\n",
       "       [ 0.        ,  0.        , -0.00701781],\n",
       "       [ 0.        ,  0.        , -0.00615402],\n",
       "       [ 0.        ,  0.        , -0.00547958],\n",
       "       [ 0.        ,  0.        , -0.00493836]])"
      ]
     },
     "execution_count": 10,
     "metadata": {},
     "output_type": "execute_result"
    }
   ],
   "source": [
    "(buf2 - buf_asymtote) / (buf2 + buf_asymtote)"
   ]
  },
  {
   "cell_type": "code",
   "execution_count": 11,
   "id": "661496bf",
   "metadata": {},
   "outputs": [
    {
     "data": {
      "text/plain": [
       "array([[ 0.        ,  0.        , -0.41      ],\n",
       "       [ 0.        ,  0.        , -0.2025    ],\n",
       "       [ 0.        ,  0.        , -0.13444444],\n",
       "       [ 0.        ,  0.        , -0.100625  ],\n",
       "       [ 0.        ,  0.        , -0.0804    ],\n",
       "       [ 0.        ,  0.        , -0.06694444],\n",
       "       [ 0.        ,  0.        , -0.05734694],\n",
       "       [ 0.        ,  0.        , -0.05015625],\n",
       "       [ 0.        ,  0.        , -0.0445679 ],\n",
       "       [ 0.        ,  0.        , -0.0401    ]])"
      ]
     },
     "execution_count": 11,
     "metadata": {},
     "output_type": "execute_result"
    }
   ],
   "source": [
    "(buf2 - buf_asymtote) / np.stack([\n",
    "    np.ones_like(arr_r),\n",
    "    arr_r,\n",
    "    arr_r**2,\n",
    "],axis=1)"
   ]
  },
  {
   "cell_type": "code",
   "execution_count": 12,
   "id": "38402070-2862-43f8-8460-cfc82b69569e",
   "metadata": {},
   "outputs": [
    {
     "data": {
      "text/plain": [
       "array([[0., 0., 0.],\n",
       "       [0., 0., 0.],\n",
       "       [0., 0., 0.],\n",
       "       [0., 0., 0.],\n",
       "       [0., 0., 0.],\n",
       "       [0., 0., 0.],\n",
       "       [0., 0., 0.],\n",
       "       [0., 0., 0.],\n",
       "       [0., 0., 0.],\n",
       "       [0., 0., 0.]])"
      ]
     },
     "execution_count": 12,
     "metadata": {},
     "output_type": "execute_result"
    }
   ],
   "source": [
    "(buf - buf2) / (buf+buf2)"
   ]
  },
  {
   "cell_type": "code",
   "execution_count": 42,
   "id": "be0d788c",
   "metadata": {},
   "outputs": [
    {
     "data": {
      "text/plain": [
       "array([[ 0.00000000e+00,  0.00000000e+00,  0.00000000e+00],\n",
       "       [ 0.00000000e+00,  5.71376432e-08, -7.59192713e-06],\n",
       "       [ 0.00000000e+00, -2.04843060e-06, -1.17394522e-05],\n",
       "       [ 0.00000000e+00, -4.20197638e-06, -1.38155153e-05],\n",
       "       [ 0.00000000e+00, -4.90173526e-06, -1.49271509e-05],\n",
       "       [ 0.00000000e+00, -5.76225180e-06, -1.56094807e-05],\n",
       "       [ 0.00000000e+00, -6.27034902e-06, -1.60954865e-05],\n",
       "       [ 0.00000000e+00, -6.69491601e-06, -1.64617747e-05],\n",
       "       [ 0.00000000e+00, -6.97675703e-06, -1.67451505e-05],\n",
       "       [ 0.00000000e+00, -7.19237520e-06, -1.69706175e-05]])"
      ]
     },
     "execution_count": 42,
     "metadata": {},
     "output_type": "execute_result"
    }
   ],
   "source": [
    "(buf - buf2) / np.stack([\n",
    "    np.ones_like(arr_r),\n",
    "    arr_r,\n",
    "    arr_r**2,\n",
    "],axis=1)"
   ]
  },
  {
   "cell_type": "code",
   "execution_count": 24,
   "id": "a90beacb",
   "metadata": {},
   "outputs": [
    {
     "data": {
      "text/plain": [
       "1325.2817461685145"
      ]
     },
     "execution_count": 24,
     "metadata": {},
     "output_type": "execute_result"
    }
   ],
   "source": [
    "buf[1,2]"
   ]
  },
  {
   "cell_type": "code",
   "execution_count": 5,
   "id": "dbf76ccf",
   "metadata": {},
   "outputs": [],
   "source": [
    "import numpy as np"
   ]
  },
  {
   "cell_type": "code",
   "execution_count": 7,
   "id": "5c8e85fb",
   "metadata": {},
   "outputs": [],
   "source": [
    "a = np.array(0)"
   ]
  },
  {
   "cell_type": "code",
   "execution_count": 11,
   "id": "768643d8",
   "metadata": {},
   "outputs": [
    {
     "data": {
      "text/plain": [
       "array(0)"
      ]
     },
     "execution_count": 11,
     "metadata": {},
     "output_type": "execute_result"
    }
   ],
   "source": [
    "a"
   ]
  },
  {
   "cell_type": "code",
   "execution_count": 12,
   "id": "36a18610",
   "metadata": {},
   "outputs": [],
   "source": [
    "import collections.abc"
   ]
  },
  {
   "cell_type": "code",
   "execution_count": 13,
   "id": "d24299d0",
   "metadata": {},
   "outputs": [
    {
     "data": {
      "text/plain": [
       "False"
      ]
     },
     "execution_count": 13,
     "metadata": {},
     "output_type": "execute_result"
    }
   ],
   "source": [
    "isinstance(a, collections.abc.Sequence)"
   ]
  },
  {
   "cell_type": "code",
   "execution_count": 15,
   "id": "65c85510",
   "metadata": {},
   "outputs": [
    {
     "data": {
      "text/plain": [
       "False"
      ]
     },
     "execution_count": 15,
     "metadata": {},
     "output_type": "execute_result"
    }
   ],
   "source": [
    "a = np.array([0,1])\n",
    "isinstance(a, collections.abc.Sequence)"
   ]
  },
  {
   "cell_type": "code",
   "execution_count": 19,
   "id": "d908161b",
   "metadata": {},
   "outputs": [
    {
     "data": {
      "text/plain": [
       "0"
      ]
     },
     "execution_count": 19,
     "metadata": {},
     "output_type": "execute_result"
    }
   ],
   "source": [
    "np.ndim(np.array(0))"
   ]
  },
  {
   "cell_type": "code",
   "execution_count": null,
   "id": "65c5d56c",
   "metadata": {},
   "outputs": [],
   "source": []
  }
 ],
 "metadata": {
  "kernelspec": {
   "display_name": "Python 3 (ipykernel)",
   "language": "python",
   "name": "python3"
  },
  "language_info": {
   "codemirror_mode": {
    "name": "ipython",
    "version": 3
   },
   "file_extension": ".py",
   "mimetype": "text/x-python",
   "name": "python",
   "nbconvert_exporter": "python",
   "pygments_lexer": "ipython3",
   "version": "3.10.14"
  }
 },
 "nbformat": 4,
 "nbformat_minor": 5
}
