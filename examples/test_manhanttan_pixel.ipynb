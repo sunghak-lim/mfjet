{
 "cells": [
  {
   "cell_type": "code",
   "execution_count": 1,
   "id": "378c9a80",
   "metadata": {},
   "outputs": [],
   "source": [
    "import os\n",
    "import sys\n",
    "import math\n",
    "path_base = os.getcwd()+\"/..\"\n",
    "if path_base not in sys.path:\n",
    "    sys.path.append(path_base)\n",
    "\n",
    "import numpy as np\n",
    "import matplotlib\n",
    "import matplotlib.animation\n",
    "import matplotlib.patches\n",
    "import matplotlib.pyplot as plt\n",
    "\n",
    "\n",
    "import shapely\n",
    "import mfjet "
   ]
  },
  {
   "cell_type": "code",
   "execution_count": 2,
   "id": "9e0dd6b9",
   "metadata": {},
   "outputs": [],
   "source": [
    "calculator_m = mfjet.MFManhattanCalculator()\n",
    "calculator_p = mfjet.MFPixelCalculator(0.1, diagonal_connected=False)\n",
    "calculator_mp = mfjet.MFManhattanPixelCalculator(0.1, diagonal_connected=False)"
   ]
  },
  {
   "cell_type": "code",
   "execution_count": 3,
   "id": "7d0426c7",
   "metadata": {},
   "outputs": [
    {
     "name": "stdout",
     "output_type": "stream",
     "text": [
      "[0.   0.05 0.1  0.15 0.2  0.25 0.3  0.35 0.4  0.45]\n",
      "[0.05 0.1  0.15 0.2  0.25 0.3  0.35 0.4  0.45 0.5 ]\n"
     ]
    }
   ],
   "source": [
    "coords = np.array([\n",
    "    [-1,-1],\n",
    "    [-1,1],\n",
    "    [1,-1],\n",
    "    [0,0],\n",
    "    [0,0.1],\n",
    "    [0,-0.0001]\n",
    "])\n",
    "arr_r = np.linspace(0,5,101)\n",
    "arr_r_dig = np.ceil((arr_r + 1e-6)/ (0.05)) * 0.05\n",
    "print(arr_r[:10])\n",
    "print(arr_r_dig[:10])"
   ]
  },
  {
   "cell_type": "code",
   "execution_count": 4,
   "id": "e4e55be8",
   "metadata": {},
   "outputs": [
    {
     "data": {
      "text/plain": [
       "0.5"
      ]
     },
     "execution_count": 4,
     "metadata": {},
     "output_type": "execute_result"
    }
   ],
   "source": [
    "arr_r_dig[9]"
   ]
  },
  {
   "cell_type": "code",
   "execution_count": 5,
   "id": "bc2c6a86",
   "metadata": {},
   "outputs": [
    {
     "data": {
      "image/svg+xml": [
       "<svg xmlns=\"http://www.w3.org/2000/svg\" xmlns:xlink=\"http://www.w3.org/1999/xlink\" width=\"100.0\" height=\"100.0\" viewBox=\"-1.62 -1.62 3.24 3.24\" preserveAspectRatio=\"xMinYMin meet\"><g transform=\"matrix(1,0,0,-1,0,0.0)\"><path fill-rule=\"evenodd\" fill=\"#66cc99\" stroke=\"#555555\" stroke-width=\"0.06480000000000001\" opacity=\"0.6\" d=\"M -1.5,-1.5 L -1.5,-0.5 L -0.5,-0.5 L -0.5,-0.4 L -0.5,0.4999 L -0.5,0.5 L -1.5,0.5 L -1.5,1.5 L -0.5,1.5 L -0.5,0.6 L 0.5,0.6 L 0.5,0.5 L 0.5,0.4999 L 0.5,-0.4 L 0.5,-0.5 L 1.5,-0.5 L 1.5,-1.5 L 0.5,-1.5 L 0.5,-0.5001 L -0.5,-0.5001 L -0.5,-1.5 L -1.5,-1.5 z\" /></g></svg>"
      ],
      "text/plain": [
       "<POLYGON ((-1.5 -1.5, -1.5 -0.5, -0.5 -0.5, -0.5 -0.4, -0.5 0.5, -0.5 0.5, -...>"
      ]
     },
     "execution_count": 5,
     "metadata": {},
     "output_type": "execute_result"
    }
   ],
   "source": [
    "calculator_m.dilate_points_by_square(coords, arr_r_dig[9])"
   ]
  },
  {
   "cell_type": "code",
   "execution_count": 6,
   "id": "7e758069",
   "metadata": {},
   "outputs": [],
   "source": [
    "from mfjet.pixel_utils import *"
   ]
  },
  {
   "cell_type": "code",
   "execution_count": 7,
   "id": "4a131c41",
   "metadata": {},
   "outputs": [],
   "source": [
    "bcoords = coords_to_binned_coords(\n",
    "    coords,\n",
    "    bin_width=0.1,\n",
    "    mode=\"center\"\n",
    ")"
   ]
  },
  {
   "cell_type": "code",
   "execution_count": 8,
   "id": "93b64c88",
   "metadata": {},
   "outputs": [],
   "source": [
    "arr_mfs_p = calculator_p.calc_mfs(coords, arr_r)"
   ]
  },
  {
   "cell_type": "code",
   "execution_count": 9,
   "id": "9a3b0f6a",
   "metadata": {},
   "outputs": [],
   "source": [
    "arr_mfs_m = calculator_m.calc_mfs(bcoords, arr_r_dig)"
   ]
  },
  {
   "cell_type": "code",
   "execution_count": 10,
   "id": "b6c3261f",
   "metadata": {},
   "outputs": [],
   "source": [
    "arr_mfs_mp = calculator_mp.calc_mfs(coords, arr_r)"
   ]
  },
  {
   "cell_type": "code",
   "execution_count": 11,
   "id": "0bbae223",
   "metadata": {},
   "outputs": [
    {
     "data": {
      "text/plain": [
       "array([ 3. , 16. ,  4.1])"
      ]
     },
     "execution_count": 11,
     "metadata": {},
     "output_type": "execute_result"
    }
   ],
   "source": [
    "arr_mfs_p[9]"
   ]
  },
  {
   "cell_type": "code",
   "execution_count": 12,
   "id": "c947ef03",
   "metadata": {},
   "outputs": [
    {
     "data": {
      "text/plain": [
       "array([ 3. , 16. ,  4.1])"
      ]
     },
     "execution_count": 12,
     "metadata": {},
     "output_type": "execute_result"
    }
   ],
   "source": [
    "arr_mfs_m[9]"
   ]
  },
  {
   "cell_type": "code",
   "execution_count": 13,
   "id": "c3a8b2c2",
   "metadata": {},
   "outputs": [
    {
     "name": "stdout",
     "output_type": "stream",
     "text": [
      "0.45\n",
      "0.5\n"
     ]
    }
   ],
   "source": [
    "print(arr_r[9])\n",
    "print(arr_r_dig[9])"
   ]
  },
  {
   "cell_type": "code",
   "execution_count": 14,
   "id": "30ebb848",
   "metadata": {},
   "outputs": [
    {
     "data": {
      "text/plain": [
       "4.1633363423443346e-16"
      ]
     },
     "execution_count": 14,
     "metadata": {},
     "output_type": "execute_result"
    }
   ],
   "source": [
    "((arr_mfs_m - arr_mfs_p) / (arr_mfs_m + arr_mfs_p)).max()"
   ]
  },
  {
   "cell_type": "code",
   "execution_count": 17,
   "id": "4b3a1c51",
   "metadata": {},
   "outputs": [
    {
     "data": {
      "text/plain": [
       "0.0"
      ]
     },
     "execution_count": 17,
     "metadata": {},
     "output_type": "execute_result"
    }
   ],
   "source": [
    "((arr_mfs_mp - arr_mfs_m) / (arr_mfs_mp + arr_mfs_m)).max()"
   ]
  },
  {
   "cell_type": "code",
   "execution_count": 15,
   "id": "7477cb18",
   "metadata": {},
   "outputs": [],
   "source": [
    "import time"
   ]
  },
  {
   "cell_type": "code",
   "execution_count": 2,
   "id": "22042371",
   "metadata": {},
   "outputs": [
    {
     "ename": "NameError",
     "evalue": "name 'time' is not defined",
     "output_type": "error",
     "traceback": [
      "\u001b[0;31m---------------------------------------------------------------------------\u001b[0m",
      "\u001b[0;31mNameError\u001b[0m                                 Traceback (most recent call last)",
      "Cell \u001b[0;32mIn[2], line 1\u001b[0m\n\u001b[0;32m----> 1\u001b[0m time_start \u001b[38;5;241m=\u001b[39m \u001b[43mtime\u001b[49m\u001b[38;5;241m.\u001b[39mtime()\n\u001b[1;32m      2\u001b[0m \u001b[38;5;28;01mfor\u001b[39;00m _ \u001b[38;5;129;01min\u001b[39;00m \u001b[38;5;28mrange\u001b[39m(\u001b[38;5;241m100\u001b[39m):\n\u001b[1;32m      3\u001b[0m     arr_mfs \u001b[38;5;241m=\u001b[39m calculator_m\u001b[38;5;241m.\u001b[39mcalc_mfs(coords, arr_r)\n",
      "\u001b[0;31mNameError\u001b[0m: name 'time' is not defined"
     ]
    }
   ],
   "source": [
    "time_start = time.time()\n",
    "for _ in range(100):\n",
    "    arr_mfs = calculator_m.calc_mfs(coords, arr_r)\n",
    "print(arr_mfs.shape)\n",
    "print(\"time elapsed: {:02f} s\".format(time.time() - time_start))"
   ]
  },
  {
   "cell_type": "code",
   "execution_count": 6,
   "id": "bc231e25",
   "metadata": {},
   "outputs": [
    {
     "name": "stdout",
     "output_type": "stream",
     "text": [
      "(501, 3)\n",
      "time elapsed: 19.686443 s\n"
     ]
    }
   ],
   "source": [
    "time_start = time.time()\n",
    "for _ in range(100):\n",
    "    arr_mfs = calculator_p.calc_mfs(coords, arr_r)\n",
    "print(arr_mfs.shape)\n",
    "print(\"time elapsed: {:02f} s\".format(time.time() - time_start))"
   ]
  },
  {
   "cell_type": "code",
   "execution_count": 7,
   "id": "9fc8020a",
   "metadata": {},
   "outputs": [
    {
     "data": {
      "text/plain": [
       "(10, 10, 2)"
      ]
     },
     "execution_count": 7,
     "metadata": {},
     "output_type": "execute_result"
    }
   ],
   "source": [
    "np.stack(np.meshgrid(np.arange(10),np.arange(10)), axis=-1).shape"
   ]
  },
  {
   "cell_type": "code",
   "execution_count": null,
   "id": "3bfb5f03",
   "metadata": {},
   "outputs": [],
   "source": []
  }
 ],
 "metadata": {
  "kernelspec": {
   "display_name": "Python 3 (ipykernel)",
   "language": "python",
   "name": "python3"
  },
  "language_info": {
   "codemirror_mode": {
    "name": "ipython",
    "version": 3
   },
   "file_extension": ".py",
   "mimetype": "text/x-python",
   "name": "python",
   "nbconvert_exporter": "python",
   "pygments_lexer": "ipython3",
   "version": "3.10.0"
  }
 },
 "nbformat": 4,
 "nbformat_minor": 5
}
