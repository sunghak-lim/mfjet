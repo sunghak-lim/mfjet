{
 "cells": [
  {
   "cell_type": "code",
   "execution_count": 1,
   "id": "af4db015",
   "metadata": {},
   "outputs": [],
   "source": [
    "import os\n",
    "import sys\n",
    "import math\n",
    "path_base = os.getcwd()+\"/..\"\n",
    "if path_base not in sys.path:\n",
    "    sys.path.append(path_base)\n",
    "\n",
    "import numpy as np\n",
    "import matplotlib\n",
    "import matplotlib.animation\n",
    "import matplotlib.patches\n",
    "import matplotlib.pyplot as plt\n",
    "\n",
    "\n",
    "import shapely\n",
    "import mfjet "
   ]
  },
  {
   "cell_type": "code",
   "execution_count": 2,
   "id": "46ae83af",
   "metadata": {},
   "outputs": [],
   "source": [
    "calculator_m = mfjet.MFManhattanCalculator()\n",
    "calculator_p = mfjet.MFPixelCalculator(0.1)"
   ]
  },
  {
   "cell_type": "code",
   "execution_count": 3,
   "id": "97b5763a",
   "metadata": {},
   "outputs": [
    {
     "name": "stdout",
     "output_type": "stream",
     "text": [
      "[0.   0.01 0.02 0.03 0.04 0.05 0.06 0.07 0.08 0.09]\n"
     ]
    }
   ],
   "source": [
    "coords = np.array([\n",
    "    [-1,-1],\n",
    "    [-1,1],\n",
    "    [1,-1],\n",
    "    [0,0],\n",
    "    [0,0.1],\n",
    "    [0,-0.0001]\n",
    "])\n",
    "arr_r = np.linspace(0,5,501)\n",
    "print(arr_r[:10])"
   ]
  },
  {
   "cell_type": "code",
   "execution_count": 4,
   "id": "93dbd22c",
   "metadata": {},
   "outputs": [],
   "source": [
    "from mfjet.pixel_utils import *"
   ]
  },
  {
   "cell_type": "code",
   "execution_count": 5,
   "id": "86b93d54",
   "metadata": {},
   "outputs": [
    {
     "data": {
      "text/plain": [
       "array([[-1. , -1. ],\n",
       "       [-1. ,  1. ],\n",
       "       [ 0. ,  0. ],\n",
       "       [ 0. ,  0.1],\n",
       "       [ 1. , -1. ]])"
      ]
     },
     "execution_count": 5,
     "metadata": {},
     "output_type": "execute_result"
    }
   ],
   "source": [
    "coords_to_binned_coords(\n",
    "    coords,\n",
    "    bin_width=0.05,\n",
    "    mode=\"center\"\n",
    ")"
   ]
  },
  {
   "cell_type": "code",
   "execution_count": 6,
   "id": "6d2fb9ca",
   "metadata": {},
   "outputs": [
    {
     "data": {
      "text/plain": [
       "array([[-1.  , -1.  ],\n",
       "       [-1.  ,  1.  ],\n",
       "       [ 0.  , -0.05],\n",
       "       [ 0.  ,  0.  ],\n",
       "       [ 0.  ,  0.1 ],\n",
       "       [ 1.  , -1.  ]])"
      ]
     },
     "execution_count": 6,
     "metadata": {},
     "output_type": "execute_result"
    }
   ],
   "source": [
    "coords_to_binned_coords(\n",
    "    coords,\n",
    "    bin_width=0.05,\n",
    "    mode=\"corner\"\n",
    ")"
   ]
  },
  {
   "cell_type": "code",
   "execution_count": 7,
   "id": "7cfcf51d",
   "metadata": {},
   "outputs": [],
   "source": [
    "import time"
   ]
  },
  {
   "cell_type": "code",
   "execution_count": 8,
   "id": "83779eaf",
   "metadata": {},
   "outputs": [
    {
     "name": "stdout",
     "output_type": "stream",
     "text": [
      "(501, 3)\n",
      "time elapsed: 9.096716 s\n"
     ]
    }
   ],
   "source": [
    "time_start = time.time()\n",
    "for _ in range(100):\n",
    "    arr_mfs = calculator_m.calc_mfs(coords, arr_r)\n",
    "print(arr_mfs.shape)\n",
    "print(\"time elapsed: {:02f} s\".format(time.time() - time_start))"
   ]
  },
  {
   "cell_type": "code",
   "execution_count": 9,
   "id": "59967795",
   "metadata": {},
   "outputs": [
    {
     "name": "stdout",
     "output_type": "stream",
     "text": [
      "(501, 3)\n",
      "time elapsed: 7.618350 s\n"
     ]
    }
   ],
   "source": [
    "time_start = time.time()\n",
    "for _ in range(100):\n",
    "    arr_mfs = calculator_p.calc_mfs(coords, arr_r)\n",
    "print(arr_mfs.shape)\n",
    "print(\"time elapsed: {:02f} s\".format(time.time() - time_start))"
   ]
  },
  {
   "cell_type": "code",
   "execution_count": 10,
   "id": "3ae55847",
   "metadata": {},
   "outputs": [
    {
     "data": {
      "text/plain": [
       "(10, 10, 2)"
      ]
     },
     "execution_count": 10,
     "metadata": {},
     "output_type": "execute_result"
    }
   ],
   "source": [
    "np.stack(np.meshgrid(np.arange(10),np.arange(10)), axis=-1).shape"
   ]
  },
  {
   "cell_type": "code",
   "execution_count": null,
   "id": "e594e09a",
   "metadata": {},
   "outputs": [],
   "source": []
  }
 ],
 "metadata": {
  "kernelspec": {
   "display_name": "Python 3 (ipykernel)",
   "language": "python",
   "name": "python3"
  },
  "language_info": {
   "codemirror_mode": {
    "name": "ipython",
    "version": 3
   },
   "file_extension": ".py",
   "mimetype": "text/x-python",
   "name": "python",
   "nbconvert_exporter": "python",
   "pygments_lexer": "ipython3",
   "version": "3.10.0"
  }
 },
 "nbformat": 4,
 "nbformat_minor": 5
}
