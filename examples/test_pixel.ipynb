{
 "cells": [
  {
   "cell_type": "code",
   "execution_count": 1,
   "id": "d1a1707c",
   "metadata": {},
   "outputs": [
    {
     "name": "stdout",
     "output_type": "stream",
     "text": [
      "/home/starlight/Workspace/mfjet/examples/..\n"
     ]
    }
   ],
   "source": [
    "import os\n",
    "import sys\n",
    "path_base = os.getcwd()+\"/..\"\n",
    "if path_base not in sys.path:\n",
    "    sys.path.append(path_base)\n",
    "    print(path_base)\n",
    "\n",
    "import numpy as np\n",
    "import mfjet "
   ]
  },
  {
   "cell_type": "code",
   "execution_count": 66,
   "id": "3c3c9631",
   "metadata": {},
   "outputs": [],
   "source": [
    "arr_etaphi = np.array([\n",
    "    [0.2, 0.3],\n",
    "    [0.0, 0.3],\n",
    "    [0.0, 0.3],\n",
    "    [-0.5, 0.7],\n",
    "])"
   ]
  },
  {
   "cell_type": "code",
   "execution_count": 67,
   "id": "eb9bc08c",
   "metadata": {},
   "outputs": [
    {
     "data": {
      "text/plain": [
       "array([[ 2.,  3.],\n",
       "       [ 0.,  3.],\n",
       "       [ 0.,  3.],\n",
       "       [-5.,  7.]])"
      ]
     },
     "execution_count": 67,
     "metadata": {},
     "output_type": "execute_result"
    }
   ],
   "source": [
    "arr_etaphi / 0.1"
   ]
  },
  {
   "cell_type": "code",
   "execution_count": 68,
   "id": "e2852d7a",
   "metadata": {},
   "outputs": [
    {
     "data": {
      "text/plain": [
       "array([[ 2.,  2.],\n",
       "       [ 0.,  2.],\n",
       "       [ 0.,  2.],\n",
       "       [-5.,  6.]])"
      ]
     },
     "execution_count": 68,
     "metadata": {},
     "output_type": "execute_result"
    }
   ],
   "source": [
    "np.floor(arr_etaphi / 0.1)"
   ]
  },
  {
   "cell_type": "code",
   "execution_count": 69,
   "id": "1eed5d64",
   "metadata": {},
   "outputs": [
    {
     "name": "stdout",
     "output_type": "stream",
     "text": [
      "[[ 2  3]\n",
      " [ 0  3]\n",
      " [ 0  3]\n",
      " [-5  7]]\n",
      "[[7 0]\n",
      " [5 0]\n",
      " [5 0]\n",
      " [0 4]]\n"
     ]
    }
   ],
   "source": [
    "arr_coord_idx = np.floor((arr_etaphi + (0.1*1e-6)) / 0.1).astype(int)\n",
    "print(arr_coord_idx)\n",
    "arr_coord_idx_min = arr_coord_idx.min(axis=0)\n",
    "arr_coord_idx_max = arr_coord_idx.max(axis=0)\n",
    "arr_coord_idx_rel = arr_coord_idx - arr_coord_idx_min\n",
    "print(arr_coord_idx_rel)"
   ]
  },
  {
   "cell_type": "code",
   "execution_count": 70,
   "id": "65e36101",
   "metadata": {},
   "outputs": [],
   "source": [
    "import scipy.sparse\n",
    "import scipy.signal"
   ]
  },
  {
   "cell_type": "code",
   "execution_count": 71,
   "id": "5577e098",
   "metadata": {},
   "outputs": [
    {
     "data": {
      "text/plain": [
       "array([1., 1., 1., 1.])"
      ]
     },
     "execution_count": 71,
     "metadata": {},
     "output_type": "execute_result"
    }
   ],
   "source": [
    "np.ones(arr_coord_idx.shape[0])"
   ]
  },
  {
   "cell_type": "code",
   "execution_count": 85,
   "id": "ef7f1cb3",
   "metadata": {},
   "outputs": [],
   "source": [
    "sarr_coord = scipy.sparse.coo_array(\n",
    "    (\n",
    "        np.ones(arr_coord_idx_rel.shape[0], dtype=int),\n",
    "        arr_coord_idx_rel.T\n",
    "    )\n",
    ").astype(bool).astype(int)"
   ]
  },
  {
   "cell_type": "code",
   "execution_count": 86,
   "id": "e256902e",
   "metadata": {},
   "outputs": [
    {
     "name": "stdout",
     "output_type": "stream",
     "text": [
      "  (0, 4)\t1\n",
      "  (5, 0)\t1\n",
      "  (7, 0)\t1\n",
      "  (0, 4)\tTrue\n",
      "  (5, 0)\tTrue\n",
      "  (7, 0)\tTrue\n"
     ]
    }
   ],
   "source": [
    "print(sarr_coord)\n",
    "print(sarr_coord.astype(bool))"
   ]
  },
  {
   "cell_type": "code",
   "execution_count": 73,
   "id": "b66a8c6f",
   "metadata": {},
   "outputs": [],
   "source": [
    "filt = np.ones((3,3), dtype=int)"
   ]
  },
  {
   "cell_type": "code",
   "execution_count": 74,
   "id": "4dfa8e72",
   "metadata": {},
   "outputs": [],
   "source": [
    "filt_binary = np.array([[1,2],[4,8]], dtype=int)"
   ]
  },
  {
   "cell_type": "code",
   "execution_count": 75,
   "id": "484854b4",
   "metadata": {},
   "outputs": [
    {
     "name": "stdout",
     "output_type": "stream",
     "text": [
      "(16, 3)\n"
     ]
    }
   ],
   "source": [
    "arr_lookup = np.array([\n",
    "    [0,0,0],\n",
    "    [1,4,1],\n",
    "    [1,4,1],\n",
    "    [2,4,0],\n",
    "    [1,4,1],\n",
    "    [2,4,0],\n",
    "    [2,8,-2],\n",
    "    [3,4,-1],\n",
    "    [1,4,1],\n",
    "    [2,8,-2],\n",
    "    [2,4,0],\n",
    "    [3,4,-1],\n",
    "    [2,4,0],\n",
    "    [3,4,-1],\n",
    "    [3,4,-1],\n",
    "    [4,0,0]\n",
    "], dtype=int)[:,::-1]\n",
    "print(arr_lookup.shape)"
   ]
  },
  {
   "cell_type": "code",
   "execution_count": 76,
   "id": "e97e34ea",
   "metadata": {},
   "outputs": [
    {
     "name": "stdout",
     "output_type": "stream",
     "text": [
      "[[0 0 0 0 1 1 1]\n",
      " [0 0 0 0 1 1 1]\n",
      " [0 0 0 0 1 1 1]\n",
      " [0 0 0 0 0 0 0]\n",
      " [0 0 0 0 0 0 0]\n",
      " [1 1 1 0 0 0 0]\n",
      " [1 1 1 0 0 0 0]\n",
      " [1 1 1 0 0 0 0]\n",
      " [1 1 1 0 0 0 0]\n",
      " [1 1 1 0 0 0 0]]\n",
      "(10, 7)\n",
      "(11, 8)\n"
     ]
    }
   ],
   "source": [
    "arr_ms = scipy.signal.convolve(sarr_coord.toarray(), filt).astype(bool).astype(int)\n",
    "print(arr_ms)\n",
    "print(arr_ms.shape)\n",
    "arr_binary = scipy.signal.convolve(arr_ms, filt_binary)\n",
    "print(arr_binary.shape)"
   ]
  },
  {
   "cell_type": "code",
   "execution_count": 77,
   "id": "10e29122",
   "metadata": {},
   "outputs": [
    {
     "name": "stdout",
     "output_type": "stream",
     "text": [
      "(11, 8, 3)\n",
      "[ 2 28 24]\n"
     ]
    }
   ],
   "source": [
    "arr_mfs_local = arr_lookup[arr_binary]\n",
    "print(arr_mfs_local.shape)\n",
    "arr_mfs = arr_mfs_local.sum(axis=0).sum(axis=0) // 4\n",
    "print(arr_mfs)"
   ]
  },
  {
   "cell_type": "code",
   "execution_count": 78,
   "id": "51beac4b",
   "metadata": {},
   "outputs": [],
   "source": [
    "darr_coord = sarr_coord.toarray()"
   ]
  },
  {
   "cell_type": "code",
   "execution_count": 37,
   "id": "62feb753",
   "metadata": {},
   "outputs": [
    {
     "name": "stdout",
     "output_type": "stream",
     "text": [
      "time elapsed: 17.966556 s\n"
     ]
    }
   ],
   "source": [
    "import time\n",
    "time_start = time.time()\n",
    "for _ in range(1000000):\n",
    "    arr_ms = scipy.signal.convolve(sarr_coord.toarray(), filt)\n",
    "    arr_ms[arr_ms>0] = 1\n",
    "print(\"time elapsed: {:02f} s\".format(time.time() - time_start))"
   ]
  },
  {
   "cell_type": "code",
   "execution_count": 38,
   "id": "d4316953",
   "metadata": {},
   "outputs": [
    {
     "name": "stdout",
     "output_type": "stream",
     "text": [
      "time elapsed: 17.846251 s\n"
     ]
    }
   ],
   "source": [
    "import time\n",
    "time_start = time.time()\n",
    "for _ in range(1000000):\n",
    "    arr_ms = scipy.signal.convolve(sarr_coord.toarray(), filt).astype(bool).astype(int)\n",
    "print(\"time elapsed: {:02f} s\".format(time.time() - time_start))"
   ]
  },
  {
   "cell_type": "code",
   "execution_count": 40,
   "id": "999e4450",
   "metadata": {},
   "outputs": [
    {
     "name": "stdout",
     "output_type": "stream",
     "text": [
      "time elapsed: 16.013347 s\n"
     ]
    }
   ],
   "source": [
    "import time\n",
    "time_start = time.time()\n",
    "for _ in range(1000000):\n",
    "    arr_ms = scipy.signal.convolve(darr_coord, filt)\n",
    "    arr_ms[arr_ms>0] = 1\n",
    "print(\"time elapsed: {:02f} s\".format(time.time() - time_start))"
   ]
  },
  {
   "cell_type": "code",
   "execution_count": 41,
   "id": "d41be47e",
   "metadata": {},
   "outputs": [
    {
     "name": "stdout",
     "output_type": "stream",
     "text": [
      "time elapsed: 15.578599 s\n"
     ]
    }
   ],
   "source": [
    "import time\n",
    "time_start = time.time()\n",
    "for _ in range(1000000):\n",
    "    arr_ms = scipy.signal.convolve(darr_coord, filt).astype(bool).astype(int)\n",
    "print(\"time elapsed: {:02f} s\".format(time.time() - time_start))"
   ]
  },
  {
   "cell_type": "code",
   "execution_count": 42,
   "id": "5242cfae",
   "metadata": {},
   "outputs": [
    {
     "name": "stdout",
     "output_type": "stream",
     "text": [
      "time elapsed: 15.717880 s\n"
     ]
    }
   ],
   "source": [
    "import time\n",
    "time_start = time.time()\n",
    "for _ in range(1000000):\n",
    "    arr_ms = (scipy.signal.convolve(darr_coord, filt) != 0).astype(int)\n",
    "print(\"time elapsed: {:02f} s\".format(time.time() - time_start))"
   ]
  },
  {
   "cell_type": "code",
   "execution_count": null,
   "id": "1e4b451c",
   "metadata": {},
   "outputs": [],
   "source": []
  }
 ],
 "metadata": {
  "kernelspec": {
   "display_name": "Python 3 (ipykernel)",
   "language": "python",
   "name": "python3"
  },
  "language_info": {
   "codemirror_mode": {
    "name": "ipython",
    "version": 3
   },
   "file_extension": ".py",
   "mimetype": "text/x-python",
   "name": "python",
   "nbconvert_exporter": "python",
   "pygments_lexer": "ipython3",
   "version": "3.10.0"
  }
 },
 "nbformat": 4,
 "nbformat_minor": 5
}
