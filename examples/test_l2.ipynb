{
 "cells": [
  {
   "cell_type": "code",
   "execution_count": 101,
   "id": "361cf6d9",
   "metadata": {},
   "outputs": [],
   "source": [
    "import os\n",
    "import sys\n",
    "path_base = os.getcwd()+\"/..\"\n",
    "if path_base not in sys.path:\n",
    "    sys.path.append(path_base)\n",
    "    print(path_base)\n",
    "\n",
    "import numpy as np\n",
    "import shapely\n",
    "import mfjet "
   ]
  },
  {
   "cell_type": "code",
   "execution_count": 102,
   "id": "9b034b50",
   "metadata": {},
   "outputs": [],
   "source": [
    "calc = mfjet.MFEuclideanCalculator(8)"
   ]
  },
  {
   "cell_type": "code",
   "execution_count": 118,
   "id": "daffd5c5",
   "metadata": {},
   "outputs": [],
   "source": [
    "coords = [\n",
    "    [1,0],\n",
    "    #[1,1],\n",
    "    #[0,1]\n",
    "]"
   ]
  },
  {
   "cell_type": "code",
   "execution_count": 119,
   "id": "4eca5dad-2ca5-4c7a-9e73-4fd89e7478f4",
   "metadata": {},
   "outputs": [
    {
     "data": {
      "image/svg+xml": [
       "<svg xmlns=\"http://www.w3.org/2000/svg\" xmlns:xlink=\"http://www.w3.org/1999/xlink\" width=\"216.0\" height=\"216.0\" viewBox=\"-107.0 -108.0 216.0 216.0\" preserveAspectRatio=\"xMinYMin meet\"><g transform=\"matrix(1,0,0,-1,0,0.0)\"><path fill-rule=\"evenodd\" fill=\"#66cc99\" stroke=\"#555555\" stroke-width=\"2.0\" opacity=\"0.6\" d=\"M 101.0,0.0 L 99.07852804032305,-19.509032201612825 L 93.38795325112868,-38.268343236508976 L 84.14696123025452,-55.557023301960214 L 71.71067811865476,-70.71067811865474 L 56.55702330196023,-83.14696123025452 L 39.26834323650898,-92.38795325112868 L 20.509032201612833,-98.07852804032305 L 1.0000000000000062,-100.0 L -18.50903220161282,-98.07852804032305 L -37.268343236508976,-92.38795325112868 L -54.55702330196019,-83.14696123025455 L -69.71067811865474,-70.71067811865476 L -82.14696123025453,-55.557023301960214 L -91.38795325112868,-38.26834323650899 L -97.07852804032305,-19.50903220161286 L -99.0,-1.2246467991473532e-14 L -97.07852804032305,19.509032201612836 L -91.38795325112868,38.26834323650897 L -82.14696123025455,55.55702330196019 L -69.71067811865477,70.71067811865474 L -54.557023301960214,83.14696123025452 L -37.26834323650903,92.38795325112865 L -18.509032201612868,98.07852804032304 L 0.9999999999999817,100.0 L 20.50903220161283,98.07852804032305 L 39.268343236509,92.38795325112866 L 56.557023301960186,83.14696123025455 L 71.71067811865474,70.71067811865477 L 84.14696123025452,55.557023301960214 L 93.38795325112865,38.26834323650904 L 99.07852804032304,19.50903220161287 L 101.0,0.0 z\" /></g></svg>"
      ],
      "text/plain": [
       "<POLYGON ((101 0, 99.079 -19.509, 93.388 -38.268, 84.147 -55.557, 71.711 -70...>"
      ]
     },
     "execution_count": 119,
     "metadata": {},
     "output_type": "execute_result"
    }
   ],
   "source": [
    "calc.create_dilated_points_by_disk(coords, 100, 8)"
   ]
  },
  {
   "cell_type": "code",
   "execution_count": 120,
   "id": "0bbf8562",
   "metadata": {},
   "outputs": [
    {
     "name": "stdout",
     "output_type": "stream",
     "text": [
      "(10, 3)\n"
     ]
    }
   ],
   "source": [
    "buf = calc.calc_mfs(coords, np.linspace(0,100,11)[1:],32)\n",
    "print(buf.shape)"
   ]
  },
  {
   "cell_type": "code",
   "execution_count": 121,
   "id": "44bea497",
   "metadata": {},
   "outputs": [
    {
     "name": "stdout",
     "output_type": "stream",
     "text": [
      "(10, 3)\n"
     ]
    }
   ],
   "source": [
    "buf2 = calc.calc_mfs_sequential(coords, np.linspace(0,100,1001)[::100][1:], 32)\n",
    "print(buf2.shape)"
   ]
  },
  {
   "cell_type": "code",
   "execution_count": 124,
   "id": "0345d7b9",
   "metadata": {},
   "outputs": [
    {
     "data": {
      "text/plain": [
       "'\\nbuf_asymtote = np.stack([\\n    np.ones_like(arr_r),\\n    2*np.pi*arr_r + (2 + np.sqrt(2)),\\n    np.pi*arr_r**2 + arr_r * (2 + np.sqrt(2)) + 0.5\\n], axis=1)\\n'"
      ]
     },
     "execution_count": 124,
     "metadata": {},
     "output_type": "execute_result"
    }
   ],
   "source": [
    "arr_r = np.linspace(0,100,11)[1:]\n",
    "\n",
    "buf_asymtote = np.stack([\n",
    "    np.ones_like(arr_r),\n",
    "    2*np.pi*arr_r ,\n",
    "    np.pi*arr_r**2\n",
    "], axis=1)\n",
    "\n",
    "'''\n",
    "buf_asymtote = np.stack([\n",
    "    np.ones_like(arr_r),\n",
    "    2*np.pi*arr_r + (2 + np.sqrt(2)),\n",
    "    np.pi*arr_r**2 + arr_r * (2 + np.sqrt(2)) + 0.5\n",
    "], axis=1)\n",
    "'''"
   ]
  },
  {
   "cell_type": "code",
   "execution_count": 125,
   "id": "c7df6a58-2e82-43fe-b93c-cae6b740df1a",
   "metadata": {},
   "outputs": [
    {
     "data": {
      "text/plain": [
       "array([[ 0.00000000e+00, -5.02004119e-05, -2.00813743e-04],\n",
       "       [ 0.00000000e+00, -5.02004119e-05, -2.00813743e-04],\n",
       "       [ 0.00000000e+00, -5.02004119e-05, -2.00813743e-04],\n",
       "       [ 0.00000000e+00, -5.02004119e-05, -2.00813743e-04],\n",
       "       [ 0.00000000e+00, -5.02004119e-05, -2.00813743e-04],\n",
       "       [ 0.00000000e+00, -5.02004119e-05, -2.00813743e-04],\n",
       "       [ 0.00000000e+00, -5.02004119e-05, -2.00813743e-04],\n",
       "       [ 0.00000000e+00, -5.02004119e-05, -2.00813743e-04],\n",
       "       [ 0.00000000e+00, -5.02004119e-05, -2.00813743e-04],\n",
       "       [ 0.00000000e+00, -5.02004119e-05, -2.00813743e-04]])"
      ]
     },
     "execution_count": 125,
     "metadata": {},
     "output_type": "execute_result"
    }
   ],
   "source": [
    "(buf - buf_asymtote) / (buf + buf_asymtote)"
   ]
  },
  {
   "cell_type": "code",
   "execution_count": 133,
   "id": "b8286d59-8f5f-49b6-8bcc-d5f20d628dc5",
   "metadata": {},
   "outputs": [
    {
     "name": "stdout",
     "output_type": "stream",
     "text": [
      "-5.020041188396627e-05\n",
      "-0.0002008137432234961\n"
     ]
    }
   ],
   "source": [
    "q=32\n",
    "n=4*q\n",
    "theta = np.pi / n\n",
    "print((np.sin(theta) / theta - 1) / (np.sin(theta) / theta + 1))\n",
    "print((np.sin(2.*theta) / 2./theta - 1) / (np.sin(2.*theta) / 2./theta + 1))"
   ]
  },
  {
   "cell_type": "code",
   "execution_count": 117,
   "id": "47a13347-e8b9-430d-83cf-d10880dfcf91",
   "metadata": {},
   "outputs": [
    {
     "data": {
      "text/plain": [
       "array([[ 0.00000000e+00, -3.12762597e-05, -2.19388132e-04],\n",
       "       [ 0.00000000e+00, -4.66299385e-05, -1.25979668e-04],\n",
       "       [ 0.00000000e+00, -3.63075823e-05, -8.32665286e-05],\n",
       "       [ 0.00000000e+00, -2.83915575e-05, -6.15945649e-05],\n",
       "       [ 0.00000000e+00, -2.30139210e-05, -4.87861961e-05],\n",
       "       [ 0.00000000e+00, -1.92786148e-05, -4.03744232e-05],\n",
       "       [ 0.00000000e+00, -1.65701067e-05, -3.44355229e-05],\n",
       "       [ 0.00000000e+00, -1.45304800e-05, -3.00330239e-05],\n",
       "       [ 0.00000000e+00, -1.29336424e-05, -2.66385827e-05],\n",
       "       [ 0.00000000e+00, -1.16534376e-05, -2.39374777e-05]])"
      ]
     },
     "execution_count": 117,
     "metadata": {},
     "output_type": "execute_result"
    }
   ],
   "source": [
    "(buf2 - buf_asymtote) / (buf2 + buf_asymtote)"
   ]
  },
  {
   "cell_type": "code",
   "execution_count": 110,
   "id": "661496bf",
   "metadata": {},
   "outputs": [
    {
     "data": {
      "text/plain": [
       "array([[ 0.00000000e+00,  2.00970322e-04, -2.02603367e-04],\n",
       "       [ 0.00000000e+00,  2.45466530e-05, -2.59427652e-05],\n",
       "       [ 0.00000000e+00,  6.88943669e-06, -8.18348051e-06],\n",
       "       [ 0.00000000e+00,  2.52712013e-06, -3.85064106e-06],\n",
       "       [ 0.00000000e+00,  1.04412279e-06, -2.31336043e-06],\n",
       "       [ 0.00000000e+00,  3.88788938e-07, -1.63459409e-06],\n",
       "       [ 0.00000000e+00, -1.19915951e-08, -1.28023085e-06],\n",
       "       [ 0.00000000e+00, -1.75289057e-07, -1.09443791e-06],\n",
       "       [ 0.00000000e+00, -2.80586245e-07, -9.81333238e-07],\n",
       "       [ 0.00000000e+00, -3.50891917e-07, -9.08982072e-07]])"
      ]
     },
     "execution_count": 110,
     "metadata": {},
     "output_type": "execute_result"
    }
   ],
   "source": [
    "(buf2 - buf_asymtote) / np.stack([\n",
    "    np.ones_like(arr_r),\n",
    "    arr_r,\n",
    "    arr_r**2,\n",
    "],axis=1)"
   ]
  },
  {
   "cell_type": "code",
   "execution_count": 111,
   "id": "38402070-2862-43f8-8460-cfc82b69569e",
   "metadata": {},
   "outputs": [
    {
     "data": {
      "text/plain": [
       "array([[ 0.00000000e+00,  0.00000000e+00,  0.00000000e+00],\n",
       "       [ 0.00000000e+00,  6.93562764e-10, -7.15948607e-08],\n",
       "       [ 0.00000000e+00, -3.28220456e-09, -8.02762132e-08],\n",
       "       [ 0.00000000e+00,  8.13508569e-10, -8.39257756e-08],\n",
       "       [ 0.00000000e+00, -3.12701404e-09, -8.43556925e-08],\n",
       "       [ 0.00000000e+00, -4.99479230e-09, -8.44228937e-08],\n",
       "       [ 0.00000000e+00, -7.21246434e-10, -8.58922171e-08],\n",
       "       [ 0.00000000e+00, -3.64870565e-09, -8.46230278e-08],\n",
       "       [ 0.00000000e+00, -4.35888153e-09, -8.40013777e-08],\n",
       "       [ 0.00000000e+00, -4.64322011e-09, -8.35852595e-08]])"
      ]
     },
     "execution_count": 111,
     "metadata": {},
     "output_type": "execute_result"
    }
   ],
   "source": [
    "(buf - buf2) / (buf+buf2)"
   ]
  },
  {
   "cell_type": "code",
   "execution_count": 42,
   "id": "be0d788c",
   "metadata": {},
   "outputs": [
    {
     "data": {
      "text/plain": [
       "array([[ 0.00000000e+00,  0.00000000e+00,  0.00000000e+00],\n",
       "       [ 0.00000000e+00,  5.71376432e-08, -7.59192713e-06],\n",
       "       [ 0.00000000e+00, -2.04843060e-06, -1.17394522e-05],\n",
       "       [ 0.00000000e+00, -4.20197638e-06, -1.38155153e-05],\n",
       "       [ 0.00000000e+00, -4.90173526e-06, -1.49271509e-05],\n",
       "       [ 0.00000000e+00, -5.76225180e-06, -1.56094807e-05],\n",
       "       [ 0.00000000e+00, -6.27034902e-06, -1.60954865e-05],\n",
       "       [ 0.00000000e+00, -6.69491601e-06, -1.64617747e-05],\n",
       "       [ 0.00000000e+00, -6.97675703e-06, -1.67451505e-05],\n",
       "       [ 0.00000000e+00, -7.19237520e-06, -1.69706175e-05]])"
      ]
     },
     "execution_count": 42,
     "metadata": {},
     "output_type": "execute_result"
    }
   ],
   "source": [
    "(buf - buf2) / np.stack([\n",
    "    np.ones_like(arr_r),\n",
    "    arr_r,\n",
    "    arr_r**2,\n",
    "],axis=1)"
   ]
  },
  {
   "cell_type": "code",
   "execution_count": 24,
   "id": "a90beacb",
   "metadata": {},
   "outputs": [
    {
     "data": {
      "text/plain": [
       "1325.2817461685145"
      ]
     },
     "execution_count": 24,
     "metadata": {},
     "output_type": "execute_result"
    }
   ],
   "source": [
    "buf[1,2]"
   ]
  },
  {
   "cell_type": "code",
   "execution_count": 5,
   "id": "dbf76ccf",
   "metadata": {},
   "outputs": [],
   "source": [
    "import numpy as np"
   ]
  },
  {
   "cell_type": "code",
   "execution_count": 7,
   "id": "5c8e85fb",
   "metadata": {},
   "outputs": [],
   "source": [
    "a = np.array(0)"
   ]
  },
  {
   "cell_type": "code",
   "execution_count": 11,
   "id": "768643d8",
   "metadata": {},
   "outputs": [
    {
     "data": {
      "text/plain": [
       "array(0)"
      ]
     },
     "execution_count": 11,
     "metadata": {},
     "output_type": "execute_result"
    }
   ],
   "source": [
    "a"
   ]
  },
  {
   "cell_type": "code",
   "execution_count": 12,
   "id": "36a18610",
   "metadata": {},
   "outputs": [],
   "source": [
    "import collections.abc"
   ]
  },
  {
   "cell_type": "code",
   "execution_count": 13,
   "id": "d24299d0",
   "metadata": {},
   "outputs": [
    {
     "data": {
      "text/plain": [
       "False"
      ]
     },
     "execution_count": 13,
     "metadata": {},
     "output_type": "execute_result"
    }
   ],
   "source": [
    "isinstance(a, collections.abc.Sequence)"
   ]
  },
  {
   "cell_type": "code",
   "execution_count": 15,
   "id": "65c85510",
   "metadata": {},
   "outputs": [
    {
     "data": {
      "text/plain": [
       "False"
      ]
     },
     "execution_count": 15,
     "metadata": {},
     "output_type": "execute_result"
    }
   ],
   "source": [
    "a = np.array([0,1])\n",
    "isinstance(a, collections.abc.Sequence)"
   ]
  },
  {
   "cell_type": "code",
   "execution_count": 19,
   "id": "d908161b",
   "metadata": {},
   "outputs": [
    {
     "data": {
      "text/plain": [
       "0"
      ]
     },
     "execution_count": 19,
     "metadata": {},
     "output_type": "execute_result"
    }
   ],
   "source": [
    "np.ndim(np.array(0))"
   ]
  },
  {
   "cell_type": "code",
   "execution_count": null,
   "id": "65c5d56c",
   "metadata": {},
   "outputs": [],
   "source": []
  }
 ],
 "metadata": {
  "kernelspec": {
   "display_name": "Python 3 (ipykernel)",
   "language": "python",
   "name": "python3"
  },
  "language_info": {
   "codemirror_mode": {
    "name": "ipython",
    "version": 3
   },
   "file_extension": ".py",
   "mimetype": "text/x-python",
   "name": "python",
   "nbconvert_exporter": "python",
   "pygments_lexer": "ipython3",
   "version": "3.10.0"
  }
 },
 "nbformat": 4,
 "nbformat_minor": 5
}
